{
 "cells": [
  {
   "cell_type": "code",
   "execution_count": 5,
   "id": "718f2fb1",
   "metadata": {},
   "outputs": [
    {
     "name": "stdout",
     "output_type": "stream",
     "text": [
      "Loaded array from test.text:\n",
      "[[1. 1. 1. 1.]\n",
      " [1. 1. 1. 1.]\n",
      " [1. 1. 1. 1.]\n",
      " [1. 1. 1. 1.]]\n"
     ]
    }
   ],
   "source": [
    "import numpy as np\n",
    "from scipy import io\n",
    "\n",
    "# Step 1: Create a 4x4 array of ones\n",
    "array_ones = np.ones((4, 4))\n",
    "\n",
    "# Step 2: Save the array to a text file\n",
    "np.savetxt('test.text', array_ones)\n",
    "\n",
    "# Step 3: Load the array back from the text file\n",
    "loaded_array = np.loadtxt('test.text')\n",
    "\n",
    "# Step 4: Print the loaded array\n",
    "print(\"Loaded array from test.text:\")\n",
    "print(loaded_array)\n"
   ]
  },
  {
   "cell_type": "code",
   "execution_count": 6,
   "id": "fb70bf62",
   "metadata": {},
   "outputs": [
    {
     "name": "stdout",
     "output_type": "stream",
     "text": [
      "Cube roots: [3.         4.         9.62260299]\n"
     ]
    }
   ],
   "source": [
    "from scipy.special import cbrt\n",
    "\n",
    "# Define the input values\n",
    "values = [27, 64, 891]\n",
    "\n",
    "# Compute cube roots\n",
    "cube_roots = cbrt(values)\n",
    "\n",
    "# Print the results\n",
    "print(\"Cube roots:\", cube_roots)\n"
   ]
  },
  {
   "cell_type": "code",
   "execution_count": 7,
   "id": "53ea3fab",
   "metadata": {},
   "outputs": [
    {
     "name": "stdout",
     "output_type": "stream",
     "text": [
      "Determinant of the matrix is: -7.0\n"
     ]
    }
   ],
   "source": [
    "import numpy as np\n",
    "from scipy import linalg\n",
    "\n",
    "# Step 1: Create the 2x2 matrix\n",
    "matrix = np.array([[4, 5],\n",
    "                   [3, 2]])\n",
    "\n",
    "# Step 2: Calculate the determinant\n",
    "det_value = linalg.det(matrix)\n",
    "\n",
    "# Step 3: Print the result\n",
    "print(\"Determinant of the matrix is:\", det_value)\n"
   ]
  },
  {
   "cell_type": "code",
   "execution_count": 8,
   "id": "bc8b670e",
   "metadata": {},
   "outputs": [
    {
     "name": "stdout",
     "output_type": "stream",
     "text": [
      "Inverse of the matrix:\n",
      "[[-0.28571429  0.71428571]\n",
      " [ 0.42857143 -0.57142857]]\n"
     ]
    }
   ],
   "source": [
    "import numpy as np\n",
    "from scipy import linalg\n",
    "\n",
    "# Define the matrix\n",
    "matrix = np.array([[4, 5],\n",
    "                   [3, 2]])\n",
    "\n",
    "# Calculate the inverse\n",
    "inverse_matrix = linalg.inv(matrix)\n",
    "\n",
    "# Print the result\n",
    "print(\"Inverse of the matrix:\")\n",
    "print(inverse_matrix)\n"
   ]
  },
  {
   "cell_type": "code",
   "execution_count": 9,
   "id": "a4b50ceb",
   "metadata": {},
   "outputs": [
    {
     "name": "stdout",
     "output_type": "stream",
     "text": [
      "Eigenvalues:\n",
      "[ 9.+0.j -1.+0.j]\n",
      "\n",
      "Eigenvectors:\n",
      "[[ 0.70710678 -0.5547002 ]\n",
      " [ 0.70710678  0.83205029]]\n"
     ]
    }
   ],
   "source": [
    "import numpy as np\n",
    "from scipy import linalg\n",
    "\n",
    "# Define the 2x2 matrix\n",
    "matrix = np.array([[5, 4],\n",
    "                   [6, 3]])\n",
    "\n",
    "# Compute eigenvalues and eigenvectors\n",
    "eigenvalues, eigenvectors = linalg.eig(matrix)\n",
    "\n",
    "# Display results\n",
    "print(\"Eigenvalues:\")\n",
    "print(eigenvalues)\n",
    "\n",
    "print(\"\\nEigenvectors:\")\n",
    "print(eigenvectors)\n"
   ]
  },
  {
   "cell_type": "code",
   "execution_count": 11,
   "id": "5937831a",
   "metadata": {},
   "outputs": [
    {
     "name": "stdout",
     "output_type": "stream",
     "text": [
      "Sparse Matrix A:\n",
      " <Compressed Sparse Row sparse matrix of dtype 'int64'\n",
      "\twith 3 stored elements and shape (3, 3)>\n",
      "  Coords\tValues\n",
      "  (0, 2)\t1\n",
      "  (1, 0)\t2\n",
      "  (2, 1)\t3\n",
      "\n",
      "Sparse Matrix B:\n",
      " <Compressed Sparse Row sparse matrix of dtype 'int64'\n",
      "\twith 3 stored elements and shape (3, 3)>\n",
      "  Coords\tValues\n",
      "  (0, 1)\t4\n",
      "  (1, 2)\t5\n",
      "  (2, 0)\t6\n",
      "\n",
      "Dense A:\n",
      " [[0 0 1]\n",
      " [2 0 0]\n",
      " [0 3 0]]\n",
      "\n",
      "A + B:\n",
      " [[0 4 1]\n",
      " [2 0 5]\n",
      " [6 3 0]]\n",
      "\n",
      "A dot B:\n",
      " [[ 6  0  0]\n",
      " [ 0  8  0]\n",
      " [ 0  0 15]]\n",
      "\n",
      "Transpose of A:\n",
      " [[0 2 0]\n",
      " [0 0 3]\n",
      " [1 0 0]]\n",
      "\n",
      "Number of non-zero elements in A: 3\n"
     ]
    }
   ],
   "source": [
    "import numpy as np\n",
    "from scipy.sparse import csr_matrix\n",
    "\n",
    "# Define dense data\n",
    "data_A = np.array([[0, 0, 1], [2, 0, 0], [0, 3, 0]])\n",
    "data_B = np.array([[0, 4, 0], [0, 0, 5], [6, 0, 0]])\n",
    "\n",
    "# Convert to sparse format (Compressed Sparse Row)\n",
    "A = csr_matrix(data_A)\n",
    "B = csr_matrix(data_B)\n",
    "\n",
    "print(\"Sparse Matrix A:\\n\", A)\n",
    "print(\"\\nSparse Matrix B:\\n\", B)\n",
    "print(\"\\nDense A:\\n\", A.toarray())\n",
    "C = A + B\n",
    "print(\"\\nA + B:\\n\", C.toarray())\n",
    "D = A.dot(B)\n",
    "print(\"\\nA dot B:\\n\", D.toarray())\n",
    "print(\"\\nTranspose of A:\\n\", A.transpose().toarray())\n",
    "print(\"\\nNumber of non-zero elements in A:\", A.nnz)\n",
    "\n"
   ]
  }
 ],
 "metadata": {
  "kernelspec": {
   "display_name": "Python 3",
   "language": "python",
   "name": "python3"
  },
  "language_info": {
   "codemirror_mode": {
    "name": "ipython",
    "version": 3
   },
   "file_extension": ".py",
   "mimetype": "text/x-python",
   "name": "python",
   "nbconvert_exporter": "python",
   "pygments_lexer": "ipython3",
   "version": "3.12.1"
  }
 },
 "nbformat": 4,
 "nbformat_minor": 5
}

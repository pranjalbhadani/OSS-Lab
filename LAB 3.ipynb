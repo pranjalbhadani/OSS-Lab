{
 "cells": [
  {
   "cell_type": "code",
   "execution_count": 16,
   "id": "e1a1946d",
   "metadata": {},
   "outputs": [
    {
     "name": "stdout",
     "output_type": "stream",
     "text": [
      "{1: 'a', 2: 'b', 3: 'c'}\n"
     ]
    }
   ],
   "source": [
    "def invertdict(d):\n",
    "    return {v: k for k, v in d.items()}\n",
    "original_dict = {'a': 1, 'b': 2, 'c': 3}\n",
    "inverted = invertdict(original_dict)\n",
    "print(inverted)"
   ]
  },
  {
   "cell_type": "code",
   "execution_count": 17,
   "id": "8510e067",
   "metadata": {},
   "outputs": [
    {
     "name": "stdout",
     "output_type": "stream",
     "text": [
      "[1, 3, 2]\n"
     ]
    }
   ],
   "source": [
    "def valuesort(d):\n",
    "    return [d[key] for key in sorted(d.keys())]\n",
    "sample_dict = {'b': 3, 'a': 1, 'c': 2}\n",
    "sorted_values = valuesort(sample_dict)\n",
    "print(sorted_values)\n"
   ]
  },
  {
   "cell_type": "code",
   "execution_count": 18,
   "id": "46bf64a9",
   "metadata": {},
   "outputs": [
    {
     "name": "stdout",
     "output_type": "stream",
     "text": [
      "[99, 78, 45]\n"
     ]
    }
   ],
   "source": [
    "def find_n_largest(lst, n):\n",
    "    if n > len(lst):\n",
    "        raise ValueError(\"N cannot be greater than the size of the list\")\n",
    "    return sorted(lst, reverse=True)[:n]\n",
    "numbers = [10, 4, 23, 1, 45, 78, 3, 99]\n",
    "n = 3\n",
    "largest_elements = find_n_largest(numbers, n)\n",
    "print(largest_elements)\n"
   ]
  },
  {
   "cell_type": "code",
   "execution_count": 19,
   "id": "f4c01aa8",
   "metadata": {},
   "outputs": [
    {
     "name": "stdout",
     "output_type": "stream",
     "text": [
      "['abcabc', 'abcdef', 'defabc', 'defdef']\n"
     ]
    }
   ],
   "source": [
    "from itertools import product\n",
    "\n",
    "def get_two_letter_combinations(digit_string):\n",
    "    string_maps = {\n",
    "        \"1\": \"abc\",\n",
    "        \"2\": \"def\",\n",
    "        \"3\": \"ghi\",\n",
    "        \"4\": \"jkl\",\n",
    "        \"5\": \"mno\",\n",
    "        \"6\": \"pqrs\",\n",
    "        \"7\": \"tuv\",\n",
    "        \"8\": \"wxy\",\n",
    "        \"9\": \"z\"\n",
    "    }\n",
    "\n",
    "    # Filter out invalid digits\n",
    "    letters = [string_maps[d] for d in digit_string if d in string_maps]\n",
    "\n",
    "    # Generate all 2-letter combinations using Cartesian product\n",
    "    combinations = [''.join(pair) for pair in product(letters, repeat=2)]\n",
    "    return combinations\n",
    "digit_input = \"12\"\n",
    "result = get_two_letter_combinations(digit_input)\n",
    "print(result)\n"
   ]
  },
  {
   "cell_type": "code",
   "execution_count": 20,
   "id": "2441c80f",
   "metadata": {},
   "outputs": [
    {
     "name": "stdout",
     "output_type": "stream",
     "text": [
      "Number of islands: 5\n"
     ]
    }
   ],
   "source": [
    "def count_islands(grid):\n",
    "    def dfs(x, y):\n",
    "        if x < 0 or x >= 10 or y < 0 or y >= 10 or grid[x][y] != 1:\n",
    "            return\n",
    "        grid[x][y] = -1  # Mark as visited\n",
    "        # Explore neighbors (up, down, left, right)\n",
    "        dfs(x+1, y)\n",
    "        dfs(x-1, y)\n",
    "        dfs(x, y+1)\n",
    "        dfs(x, y-1)\n",
    "\n",
    "    count = 0\n",
    "    for i in range(10):\n",
    "        for j in range(10):\n",
    "            if grid[i][j] == 1:\n",
    "                dfs(i, j)\n",
    "                count += 1\n",
    "    return count\n",
    "data = [\n",
    "    [1,1,0,0,0,0,0,1,1,1],\n",
    "    [1,0,0,0,0,0,0,1,1,1],\n",
    "    [0,0,0,0,0,0,0,1,1,1],\n",
    "    [0,0,1,0,0,0,1,0,0,0],\n",
    "    [0,0,0,0,0,1,1,1,0,0],\n",
    "    [0,0,0,0,1,1,1,1,1,0],\n",
    "    [0,0,0,1,1,1,1,1,1,1],\n",
    "    [1,0,0,0,1,1,1,1,1,0],\n",
    "    [1,1,0,0,0,1,1,1,0,0],\n",
    "    [1,1,1,0,0,0,1,0,0,0]\n",
    "]\n",
    "\n",
    "print(\"Number of islands:\", count_islands(data))\n"
   ]
  },
  {
   "cell_type": "code",
   "execution_count": 21,
   "id": "3edafc82",
   "metadata": {},
   "outputs": [
    {
     "name": "stdout",
     "output_type": "stream",
     "text": [
      "[246, 912, 444, 290]\n",
      "[-2, 0, -4, 4, 0, 2]\n"
     ]
    }
   ],
   "source": [
    "def double_numbers(input_string):\n",
    "    # Split the string by comma and strip spaces\n",
    "    numbers = [int(num.strip()) for num in input_string.split(',')]\n",
    "    # Double each number\n",
    "    doubled = [2 * num for num in numbers]\n",
    "    print(doubled)\n",
    "double_numbers(\"123, 456, 222, 145\")\n",
    "# Output: [246, 912, 444, 290]\n",
    "\n",
    "double_numbers(\"-1, 0, -2, 2, 0, 1\")\n",
    "# Output: [-2, 0, -4, 4, 0, 2]\n"
   ]
  },
  {
   "cell_type": "code",
   "execution_count": 23,
   "id": "2ca2c3f8",
   "metadata": {},
   "outputs": [
    {
     "name": "stdout",
     "output_type": "stream",
     "text": [
      "['H', 'e', 'l', 'l', 'o', ',', ' ', 'W', 'o', 'r', 'l', 'd', '!', '\\n', 'T', 'h', 'i', 's', ' ', 'i', 's', ' ', 'w', 'r', 'i', 't', 't', 'e', 'n', ' ', 'u', 's', 'i', 'n', 'g', ' ', 'f', 'i', 'l', 'e', '.', 'w', 'r', 'i', 't', 'e', '(', ')', '.', '\\n', 'T', 'o', 'd', 'a', 'y', ' ', 'i', 's', ' ', '1', '2', ' ', 'a', 'u', 'g', 'u', 's', 't', 'P', 'y', 't', 'h', 'o', 'n', ' ', 'i', 's', ' ', 'a', ' ', 'p', 'r', 'o', 'g', 'r', 'a', 'm', 'm', 'i', 'n', 'g', ' ', 'l', 'a', 'n', 'g', 'u', 'a', 'g', 'e']\n"
     ]
    }
   ],
   "source": [
    "import os\n",
    "\n",
    "def extract_characters_from_files(file_paths):\n",
    "    characters = []\n",
    "    for file_path in file_paths:\n",
    "        try:\n",
    "            with open(file_path, 'r') as file:\n",
    "                content = file.read()\n",
    "                characters.extend(list(content))\n",
    "        except FileNotFoundError:\n",
    "            print(f\"File not found: {file_path}\")\n",
    "    return characters\n",
    "files = ['file1.txt', 'file2.txt', 'file3.txt']\n",
    "char_list = extract_characters_from_files(files)\n",
    "print(char_list)\n"
   ]
  },
  {
   "cell_type": "code",
   "execution_count": 26,
   "id": "aadd1f72",
   "metadata": {},
   "outputs": [
    {
     "name": "stdout",
     "output_type": "stream",
     "text": [
      "Enter item name: Popcorn\n",
      "Enter money to deposit: 50\n",
      "Thank you for your purchase. Enjoy\n",
      "Do not forget to collect your change, 20 Rs.\n"
     ]
    }
   ],
   "source": [
    "def load_items(filename):\n",
    "    items = {}\n",
    "    try:\n",
    "        with open(filename, 'r') as file:\n",
    "            for line in file:\n",
    "                if '|' in line:\n",
    "                    name, price = line.strip().split('|')\n",
    "                    items[name] = int(price)\n",
    "    except FileNotFoundError:\n",
    "        print(\"VendingItems.txt not found.\")\n",
    "    return items\n",
    "\n",
    "def vending_machine():\n",
    "    items = load_items(\"VendingItems.txt\")\n",
    "    available_items = list(items.keys())\n",
    "\n",
    "    # Ask for valid item\n",
    "    while True:\n",
    "        item = input(\"Enter item name: \")\n",
    "        if item in items:\n",
    "            break\n",
    "        print(f\"Available Items are {available_items}.\")\n",
    "        print(\"Try Again.\")\n",
    "\n",
    "    # Ask for valid money input\n",
    "    while True:\n",
    "        money = input(\"Enter money to deposit: \")\n",
    "        try:\n",
    "            money = int(money)\n",
    "            break\n",
    "        except ValueError:\n",
    "            print(f\"Bad Input {money}.\")\n",
    "            print(\"Try Again.\")\n",
    "\n",
    "    price = items[item]\n",
    "    if money >= price:\n",
    "        print(\"Thank you for your purchase. Enjoy\")\n",
    "        change = money - price\n",
    "        if change > 0:\n",
    "            print(f\"Do not forget to collect your change, {change} Rs.\")\n",
    "    else:\n",
    "        print(f\"Insufficient funds. {item} costs {price} Rs.\")\n",
    "\n",
    "# Run the vending machine\n",
    "vending_machine()\n"
   ]
  },
  {
   "cell_type": "code",
   "execution_count": 27,
   "id": "bff84f66",
   "metadata": {},
   "outputs": [
    {
     "name": "stdout",
     "output_type": "stream",
     "text": [
      "Available Items and Prices:\n",
      "Potato Chips: 20 Rs\n",
      "Popcorn: 30 Rs\n",
      "Chocolate: 15 Rs\n",
      "Biscuit: 10 Rs\n",
      "Soft Drink: 12 Rs\n",
      "Enter item name: Sof Drink\n",
      "'Sof Drink' is not available.\n",
      "Available Items are: ['Potato Chips', 'Popcorn', 'Chocolate', 'Biscuit', 'Soft Drink']\n",
      "Try Again.\n",
      "Enter item name: soft drink\n",
      "'soft drink' is not available.\n",
      "Available Items are: ['Potato Chips', 'Popcorn', 'Chocolate', 'Biscuit', 'Soft Drink']\n",
      "Try Again.\n",
      "Enter item name: Soft Drink\n",
      "Enter money to deposit for 'Soft Drink' (12 Rs): 12\n",
      "Thank you for your purchase. Enjoy\n"
     ]
    }
   ],
   "source": [
    "def load_items(filename):\n",
    "    items = {}\n",
    "    try:\n",
    "        with open(filename, 'r') as file:\n",
    "            for line in file:\n",
    "                if '|' in line:\n",
    "                    name, price = line.strip().split('|')\n",
    "                    items[name] = int(price)\n",
    "    except FileNotFoundError:\n",
    "        print(\"VendingItems.txt not found.\")\n",
    "    return items\n",
    "\n",
    "def vending_machine():\n",
    "    items = load_items(\"VendingItems.txt\")\n",
    "    available_items = list(items.keys())\n",
    "\n",
    "    print(\"Available Items and Prices:\")\n",
    "    for item, price in items.items():\n",
    "        print(f\"{item}: {price} Rs\")\n",
    "\n",
    "    while True:\n",
    "        item = input(\"Enter item name: \")\n",
    "        if item in items:\n",
    "            break\n",
    "        print(f\"'{item}' is not available.\")\n",
    "        print(f\"Available Items are: {available_items}\")\n",
    "        print(\"Try Again.\")\n",
    "\n",
    "    while True:\n",
    "        money = input(f\"Enter money to deposit for '{item}' ({items[item]} Rs): \")\n",
    "        try:\n",
    "            money = int(money)\n",
    "            break\n",
    "        except ValueError:\n",
    "            print(f\"Bad Input '{money}'.\")\n",
    "            print(\"Try Again.\")\n",
    "\n",
    "    price = items[item]\n",
    "    if money >= price:\n",
    "        print(\"Thank you for your purchase. Enjoy\")\n",
    "        change = money - price\n",
    "        if change > 0:\n",
    "            print(f\"Do not forget to collect your change: {change} Rs.\")\n",
    "    else:\n",
    "        print(f\"Insufficient funds. '{item}' costs {price} Rs.\")\n",
    "\n",
    "vending_machine()\n"
   ]
  },
  {
   "cell_type": "code",
   "execution_count": 28,
   "id": "ed0c9c11",
   "metadata": {},
   "outputs": [
    {
     "name": "stdout",
     "output_type": "stream",
     "text": [
      "Iterative Search: Index = 3\n",
      "Recursive Search: Index = 3\n"
     ]
    }
   ],
   "source": [
    "def binary_search_iterative(arr, target):\n",
    "    low = 0\n",
    "    high = len(arr) - 1\n",
    "\n",
    "    while low <= high:\n",
    "        mid = (low + high) // 2\n",
    "        if arr[mid] == target:\n",
    "            return mid  # Found\n",
    "        elif arr[mid] < target:\n",
    "            low = mid + 1\n",
    "        else:\n",
    "            high = mid - 1\n",
    "\n",
    "    return -1  # Not found\n",
    "def binary_search_recursive(arr, target, low, high):\n",
    "    if low > high:\n",
    "        return -1  # Not found\n",
    "\n",
    "    mid = (low + high) // 2\n",
    "    if arr[mid] == target:\n",
    "        return mid\n",
    "    elif arr[mid] < target:\n",
    "        return binary_search_recursive(arr, target, mid + 1, high)\n",
    "    else:\n",
    "        return binary_search_recursive(arr, target, low, mid - 1)\n",
    "arr = [1, 3, 5, 7, 9, 11, 13, 15]\n",
    "target = 7\n",
    "\n",
    "# Iterative\n",
    "index_iter = binary_search_iterative(arr, target)\n",
    "print(\"Iterative Search: Index =\", index_iter)\n",
    "\n",
    "# Recursive\n",
    "index_rec = binary_search_recursive(arr, target, 0, len(arr) - 1)\n",
    "print(\"Recursive Search: Index =\", index_rec)\n"
   ]
  },
  {
   "cell_type": "code",
   "execution_count": 30,
   "id": "36cf71f3",
   "metadata": {},
   "outputs": [
    {
     "name": "stdout",
     "output_type": "stream",
     "text": [
      "The most repetitive word is 'python' with 4 occurrences.\n"
     ]
    }
   ],
   "source": [
    "from collections import Counter\n",
    "\n",
    "def most_repetitive_word(filename):\n",
    "    try:\n",
    "        with open(filename, 'r') as file:\n",
    "            text = file.read().lower()\n",
    "            words = text.split()\n",
    "            word_counts = Counter(words)\n",
    "            most_common = word_counts.most_common(1)\n",
    "            if most_common:\n",
    "                word, count = most_common[0]\n",
    "                print(f\"The most repetitive word is '{word}' with {count} occurrences.\")\n",
    "            else:\n",
    "                print(\"No words found in the file.\")\n",
    "    except FileNotFoundError:\n",
    "        print(f\"File '{filename}' not found.\")\n",
    "\n",
    "# Example usage\n",
    "most_repetitive_word(\"sample.txt\")\n"
   ]
  },
  {
   "cell_type": "code",
   "execution_count": 32,
   "id": "5c85702c",
   "metadata": {},
   "outputs": [
    {
     "name": "stdout",
     "output_type": "stream",
     "text": [
      "[1, 2, 3, 4, 5]\n"
     ]
    }
   ],
   "source": [
    "def get_unique_elements(lst):\n",
    "    return list(set(lst))\n",
    "\n",
    "def get_unique_elements_ordered(lst):\n",
    "    seen = set()\n",
    "    unique = []\n",
    "    for item in lst:\n",
    "        if item not in seen:\n",
    "            unique.append(item)\n",
    "            seen.add(item)\n",
    "    return unique\n",
    "original_list = [1, 2, 2, 3, 4, 4, 5]\n",
    "unique_list = get_unique_elements(original_list)\n",
    "print(unique_list)"
   ]
  },
  {
   "cell_type": "code",
   "execution_count": 33,
   "id": "8c7feb85",
   "metadata": {},
   "outputs": [
    {
     "name": "stdout",
     "output_type": "stream",
     "text": [
      "First non-repeating character: e\n"
     ]
    }
   ],
   "source": [
    "def first_non_repeating_char(s):\n",
    "    char_count = {}\n",
    "\n",
    "    # Count occurrences of each character\n",
    "    for char in s:\n",
    "        char_count[char] = char_count.get(char, 0) + 1\n",
    "\n",
    "    # Find the first character with count 1\n",
    "    for char in s:\n",
    "        if char_count[char] == 1:\n",
    "            return char\n",
    "\n",
    "    return None  # If no non-repeating character found\n",
    "text = \"aabbcddce\"\n",
    "result = first_non_repeating_char(text)\n",
    "print(\"First non-repeating character:\", result)\n"
   ]
  },
  {
   "cell_type": "code",
   "execution_count": 34,
   "id": "a3ca68f8",
   "metadata": {},
   "outputs": [
    {
     "name": "stdout",
     "output_type": "stream",
     "text": [
      "['example', 'w3resource', 'github', 'stackoverflow']\n"
     ]
    }
   ],
   "source": [
    "def remove_parenthesis_area(strings):\n",
    "    result = []\n",
    "    for s in strings:\n",
    "        if '(' in s and ')' in s:\n",
    "            start = s.index('(')\n",
    "            end = s.index(')')\n",
    "            s = s[:start].strip() + s[end+1:].strip()\n",
    "        result.append(s.strip())\n",
    "    return result\n",
    "data = [\"example (.com)\", \"w3resource\", \"github (.com)\", \"stackoverflow (.com)\"]\n",
    "cleaned = remove_parenthesis_area(data)\n",
    "print(cleaned)\n"
   ]
  },
  {
   "cell_type": "code",
   "execution_count": null,
   "id": "37543909",
   "metadata": {},
   "outputs": [],
   "source": []
  }
 ],
 "metadata": {
  "kernelspec": {
   "display_name": "Python 3 (ipykernel)",
   "language": "python",
   "name": "python3"
  },
  "language_info": {
   "codemirror_mode": {
    "name": "ipython",
    "version": 3
   },
   "file_extension": ".py",
   "mimetype": "text/x-python",
   "name": "python",
   "nbconvert_exporter": "python",
   "pygments_lexer": "ipython3",
   "version": "3.9.7"
  }
 },
 "nbformat": 4,
 "nbformat_minor": 5
}

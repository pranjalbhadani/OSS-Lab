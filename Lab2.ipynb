{
 "cells": [
  {
   "cell_type": "code",
   "execution_count": null,
   "id": "493587f1",
   "metadata": {},
   "outputs": [],
   "source": [
    "#Create a Python program that initializes a list of five different fruits. Use indexing to print\n",
    "#the first and last fruit from the list. Then, use slicing to print the middle three fruits."
   ]
  },
  {
   "cell_type": "code",
   "execution_count": 1,
   "id": "5ad49daf",
   "metadata": {},
   "outputs": [
    {
     "name": "stdout",
     "output_type": "stream",
     "text": [
      "First fruit: apple\n",
      "Last fruit: grape\n",
      "Middle three fruits: ['banana', 'cherry', 'mango']\n"
     ]
    }
   ],
   "source": [
    "fruits = [\"apple\", \"banana\", \"cherry\", \"mango\", \"grape\"]\n",
    "\n",
    "print(\"First fruit:\", fruits[0])\n",
    "print(\"Last fruit:\", fruits[-1])\n",
    "\n",
    "print(\"Middle three fruits:\", fruits[1:4])"
   ]
  },
  {
   "cell_type": "code",
   "execution_count": null,
   "id": "4b304ebb",
   "metadata": {},
   "outputs": [],
   "source": [
    "#Write a Python program that creates a dictionary with five key-value pairs, where the keys\n",
    "#are the names of students and the values are their ages. Access and print the age of a specific student using\n",
    "#their name as the key. Also, add a new student to the dictionary and print the updated dictionary."
   ]
  },
  {
   "cell_type": "code",
   "execution_count": 2,
   "id": "f3abb7c3",
   "metadata": {},
   "outputs": [
    {
     "name": "stdout",
     "output_type": "stream",
     "text": [
      "19\n",
      "{'Jhon': 20, 'Rohan': 19, 'Alex': 21, 'Jake': 23}\n"
     ]
    }
   ],
   "source": [
    "students = {\"Jhon\":20,\"Rohan\":19,\"Alex\":21}\n",
    "print(students[\"Rohan\"])\n",
    "students[\"Jake\"]=23\n",
    "print(students)"
   ]
  },
  {
   "cell_type": "code",
   "execution_count": 3,
   "id": "8d228207",
   "metadata": {},
   "outputs": [
    {
     "name": "stdout",
     "output_type": "stream",
     "text": [
      "Duplicates found: [2, 3, 5]\n"
     ]
    }
   ],
   "source": [
    "def duplicate(nums):\n",
    "    seen=set()\n",
    "    copy=set()\n",
    "    for num in nums:\n",
    "        if num in seen:\n",
    "            copy.add(num)\n",
    "        else:\n",
    "            seen.add(num)\n",
    "            \n",
    "    return list(copy)\n",
    "\n",
    "numbers = [3, 5, 2, 3, 7, 8, 2, 9, 1, 5]\n",
    "print(\"Duplicates found:\", duplicate(numbers))"
   ]
  },
  {
   "cell_type": "code",
   "execution_count": null,
   "id": "50984564",
   "metadata": {},
   "outputs": [],
   "source": [
    "#Write a function group (list, size) that takes a list and splits into smaller lists of given size."
   ]
  },
  {
   "cell_type": "code",
   "execution_count": 5,
   "id": "be14451a",
   "metadata": {},
   "outputs": [
    {
     "name": "stdout",
     "output_type": "stream",
     "text": [
      "[[1, 2, 3], [4, 5, 6], [7, 8, 9], [10]]\n"
     ]
    }
   ],
   "source": [
    "def group(arr,size):\n",
    "    return [arr[i:i+size] for i in range(0,len(arr),size)]\n",
    "my_list = [1, 2, 3, 4, 5, 6, 7, 8, 9, 10]\n",
    "group_size = 3\n",
    "print(group(my_list, group_size))"
   ]
  },
  {
   "cell_type": "code",
   "execution_count": 4,
   "id": "3b5d8b5f",
   "metadata": {},
   "outputs": [
    {
     "name": "stdout",
     "output_type": "stream",
     "text": [
      "[[1, 2, 3], [4, 5, 6], [7, 8, 9], [10]]\n"
     ]
    }
   ],
   "source": [
    "def group(lst, size):\n",
    "    return [lst[i:i + size] for i in range(0, len(lst), size)]\n",
    "\n",
    "# Example usage\n",
    "my_list = [1, 2, 3, 4, 5, 6, 7, 8, 9, 10]\n",
    "group_size = 3\n",
    "print(group(my_list, group_size))\n"
   ]
  },
  {
   "cell_type": "code",
   "execution_count": 8,
   "id": "d120df4d",
   "metadata": {},
   "outputs": [
    {
     "name": "stdout",
     "output_type": "stream",
     "text": [
      "['fig', 'kiwi', 'apple', 'grape', 'banana']\n",
      "['readme', 'data.csv', 'image.png', 'notes.txt', 'archive.zip']\n"
     ]
    }
   ],
   "source": [
    "def lensort(strings):\n",
    "    return sorted(strings, key=len)\n",
    "words = [\"apple\", \"fig\", \"banana\", \"kiwi\", \"grape\"]\n",
    "print(lensort(words))  # ['fig', 'kiwi', 'apple', 'grape', 'banana']\n",
    "def extsort(files):\n",
    "    return sorted(files, key=lambda f: f.split('.')[-1] if '.' in f else '')\n",
    "file_list = [\"data.csv\", \"image.png\", \"notes.txt\", \"archive.zip\", \"readme\"]\n",
    "print(extsort(file_list))  # ['data.csv', 'image.png', 'readme', 'notes.txt', 'archive.zip']\n"
   ]
  },
  {
   "cell_type": "code",
   "execution_count": 7,
   "id": "eddc28af",
   "metadata": {
    "scrolled": true
   },
   "outputs": [
    {
     "name": "stdout",
     "output_type": "stream",
     "text": [
      "['readme', 'data.csv', 'image.png', 'notes.txt', 'archive.zip']\n"
     ]
    }
   ],
   "source": []
  },
  {
   "cell_type": "code",
   "execution_count": 11,
   "id": "dc6db455",
   "metadata": {},
   "outputs": [
    {
     "name": "stdout",
     "output_type": "stream",
     "text": [
      "Full Content:\n",
      " Hello World\n",
      "Line: Hello World\n"
     ]
    }
   ],
   "source": [
    "# Open the file in read mode\n",
    "with open(\"example.txt\", \"r\") as file:\n",
    "    # Read the entire content\n",
    "    content = file.read()\n",
    "    print(\"Full Content:\\n\", content)\n",
    "\n",
    "    # Move the cursor back to the start\n",
    "    file.seek(0)\n",
    "\n",
    "    # Read line by line\n",
    "    line = file.readline()\n",
    "    while line:\n",
    "        print(\"Line:\", line.strip())\n",
    "        line = file.readline()\n",
    "# Open the file in write mode (creates or overwrites the file)\n",
    "with open(\"output.txt\", \"w\") as file:\n",
    "    file.write(\"Hello, World!\\n\")\n",
    "    file.write(\"This is written using file.write().\\n\")\n"
   ]
  },
  {
   "cell_type": "code",
   "execution_count": null,
   "id": "81f26f49",
   "metadata": {},
   "outputs": [],
   "source": []
  }
 ],
 "metadata": {
  "kernelspec": {
   "display_name": "Python 3 (ipykernel)",
   "language": "python",
   "name": "python3"
  },
  "language_info": {
   "codemirror_mode": {
    "name": "ipython",
    "version": 3
   },
   "file_extension": ".py",
   "mimetype": "text/x-python",
   "name": "python",
   "nbconvert_exporter": "python",
   "pygments_lexer": "ipython3",
   "version": "3.9.7"
  }
 },
 "nbformat": 4,
 "nbformat_minor": 5
}
